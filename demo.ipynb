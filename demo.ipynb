{
 "cells": [
  {
   "cell_type": "markdown",
   "metadata": {},
   "source": [
    "# Demo for Linear Hybrid Payoff Bandits"
   ]
  },
  {
   "cell_type": "code",
   "execution_count": 1,
   "metadata": {},
   "outputs": [],
   "source": [
    "import numpy as np\n",
    "import pandas as pd\n",
    "from utils import get_color\n",
    "from all_simulations import multi_simulation_linear\n",
    "import matplotlib.pyplot as plt\n",
    "from environment import HybridBandits"
   ]
  },
  {
   "cell_type": "code",
   "execution_count": null,
   "metadata": {},
   "outputs": [],
   "source": [
    "# Define Environment Configuration\n",
    "\n",
    "config = {}\n",
    "config['seed'] = 984397                 #np.random.randint(1098321) # Uncomment the random seed generator for random instances\n",
    "print('Seed:', config['seed'])\n",
    "config['model_type'] = 'Linear'\n",
    "config['horizon_length'] = 5000       # Number of time steps T\n",
    "config['num_labels'] = 20               # Number of actions L\n",
    "config['theta_dim'] = 10                 # Dimension of theta d\n",
    "config['beta_dim'] = 5                  # Dimension of beta k\n",
    "config['theta_norm'] = 0.8              # Max norm of theta M\n",
    "config['beta_norm'] = 0.5               # Max norm of beta_i's N\n",
    "config['x_norm'] = 1.0                  # Max norm of x\n",
    "config['z_norm'] = 1.0                  # Max norm of z\n",
    "config['subgaussian'] = 0.01             # Subgaussianity of noise\n",
    "env_name = 'Testbench'                  # Name of the simulation\n",
    "delta = 0.01 # High probability guarantee"
   ]
  },
  {
   "cell_type": "code",
   "execution_count": 8,
   "metadata": {},
   "outputs": [],
   "source": [
    "env = HybridBandits(name=env_name, config=config)"
   ]
  },
  {
   "cell_type": "code",
   "execution_count": 15,
   "metadata": {},
   "outputs": [],
   "source": [
    "# Add the algorithms to test and their hyperparameters\n",
    "algo_dict = {'HyLinUCB': {'lambda': 0.1},\n",
    "             'LinUCB': {'lambda': 0.1},\n",
    "             'DisLinUCB': {'lambda': 0.1},\n",
    "             'HyRan': {'lambda': 1.0, 'p' : 0.5}}"
   ]
  },
  {
   "cell_type": "code",
   "execution_count": 16,
   "metadata": {},
   "outputs": [],
   "source": [
    "# Code to run multiple trials\n",
    "\n",
    "num_trials = 5  # Number of trials\n",
    "T = env.T"
   ]
  },
  {
   "cell_type": "code",
   "execution_count": 17,
   "metadata": {},
   "outputs": [],
   "source": [
    "rewards, regrets = multi_simulation_linear(num_trials, algo_dict, env, delta, T)\n",
    "\n",
    "regrets_dict = {k2: np.sum(regrets[i], axis=0) / num_trials for i, k2 in enumerate(algo_dict.keys())}\n",
    "df = pd.DataFrame(data=regrets_dict)"
   ]
  },
  {
   "cell_type": "code",
   "execution_count": null,
   "metadata": {},
   "outputs": [],
   "source": [
    "T_arr = np.arange(1, T+1)\n",
    "_, ax = plt.subplots(1, 1, figsize=(10, 6))\n",
    "for col in df.columns:\n",
    "    if col == 'SupLinUCB': # SupLinUCB not plotted\n",
    "        continue\n",
    "    ax.plot(T_arr, df[col].cumsum(), label=col, color=get_color(col))\n",
    "\n",
    "ax.grid()\n",
    "ax.legend(fontsize=15)\n",
    "ax.set_title(f'$ d_1 $ = {config['theta_dim']}, $ d_2 $ = {config['beta_dim']}, K = {config['num_labels']}', fontsize=20)\n",
    "ax.set_xlabel('Time', size=20)\n",
    "ax.set_ylabel('Regret', size=20)\n",
    "plt.show()"
   ]
  }
 ],
 "metadata": {
  "kernelspec": {
   "display_name": "Python 3",
   "language": "python",
   "name": "python3"
  },
  "language_info": {
   "codemirror_mode": {
    "name": "ipython",
    "version": 3
   },
   "file_extension": ".py",
   "mimetype": "text/x-python",
   "name": "python",
   "nbconvert_exporter": "python",
   "pygments_lexer": "ipython3",
   "version": "3.11.5"
  }
 },
 "nbformat": 4,
 "nbformat_minor": 2
}
